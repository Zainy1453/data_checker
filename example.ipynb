{
 "cells": [
  {
   "cell_type": "code",
   "execution_count": 4,
   "id": "c0a51b87",
   "metadata": {},
   "outputs": [],
   "source": [
    "from data_checker import Dashboard\n",
    "import pandas as pd "
   ]
  },
  {
   "cell_type": "code",
   "execution_count": 5,
   "id": "eae2b7a6",
   "metadata": {},
   "outputs": [],
   "source": [
    "pop = pd.read_csv('cancer_edited.csv')"
   ]
  },
  {
   "cell_type": "code",
   "execution_count": 7,
   "id": "75a19cb1",
   "metadata": {},
   "outputs": [
    {
     "name": "stdout",
     "output_type": "stream",
     "text": [
      "                 id      radius     texture   perimeter         area  \\\n",
      "count  5.690000e+02  569.000000  569.000000  569.000000   569.000000   \n",
      "mean   3.037183e+07   14.127292   19.289649   91.969033   654.889104   \n",
      "std    1.250206e+08    3.524049    4.301036   24.298981   351.914129   \n",
      "min    8.670000e+03    6.981000    9.710000   43.790000   143.500000   \n",
      "25%    8.692180e+05   11.700000   16.170000   75.170000   420.300000   \n",
      "50%    9.060240e+05   13.370000   18.840000   86.240000   551.100000   \n",
      "75%    8.813129e+06   15.780000   21.800000  104.100000   782.700000   \n",
      "max    9.113205e+08   28.110000   39.280000  188.500000  2501.000000   \n",
      "\n",
      "       smoothness  compactness   concavity  concave points    symmetry  \\\n",
      "count  569.000000   569.000000  569.000000      569.000000  569.000000   \n",
      "mean     0.096360     0.104341    0.088799        0.048919    0.181162   \n",
      "std      0.014064     0.052813    0.079720        0.038803    0.027414   \n",
      "min      0.052630     0.019380    0.000000        0.000000    0.106000   \n",
      "25%      0.086370     0.064920    0.029560        0.020310    0.161900   \n",
      "50%      0.095870     0.092630    0.061540        0.033500    0.179200   \n",
      "75%      0.105300     0.130400    0.130700        0.074000    0.195700   \n",
      "max      0.163400     0.345400    0.426800        0.201200    0.304000   \n",
      "\n",
      "       fractal_dimension  \n",
      "count         569.000000  \n",
      "mean            0.062798  \n",
      "std             0.007060  \n",
      "min             0.049960  \n",
      "25%             0.057700  \n",
      "50%             0.061540  \n",
      "75%             0.066120  \n",
      "max             0.097440  \n"
     ]
    }
   ],
   "source": [
    "popo = Dashboard(pop)\n",
    "popo.show_insights()"
   ]
  },
  {
   "cell_type": "code",
   "execution_count": null,
   "id": "e8460240",
   "metadata": {},
   "outputs": [],
   "source": []
  }
 ],
 "metadata": {
  "kernelspec": {
   "display_name": "Python 3 (ipykernel)",
   "language": "python",
   "name": "python3"
  },
  "language_info": {
   "codemirror_mode": {
    "name": "ipython",
    "version": 3
   },
   "file_extension": ".py",
   "mimetype": "text/x-python",
   "name": "python",
   "nbconvert_exporter": "python",
   "pygments_lexer": "ipython3",
   "version": "3.9.7"
  }
 },
 "nbformat": 4,
 "nbformat_minor": 5
}
